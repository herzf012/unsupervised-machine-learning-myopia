{
 "cells": [
  {
   "cell_type": "code",
   "execution_count": null,
   "id": "8b66d32e",
   "metadata": {},
   "outputs": [],
   "source": [
    "# Prevent memory leak bug\n",
    "import os\n",
    "os.environ[\"OMP_NUM_THREADS\"] = '1'"
   ]
  },
  {
   "cell_type": "code",
   "execution_count": null,
   "id": "828c3d27",
   "metadata": {},
   "outputs": [],
   "source": [
    "# Import initial dependences\n",
    "import pandas as pd\n",
    "from pathlib import Path\n",
    "from sklearn.preprocessing import StandardScaler\n",
    "from sklearn.decomposition import PCA\n",
    "from sklearn.cluster import KMeans\n",
    "from sklearn.manifold import TSNE\n",
    "import matplotlib.pyplot as plt"
   ]
  },
  {
   "cell_type": "markdown",
   "id": "4c88eada",
   "metadata": {},
   "source": [
    "# Data Prep"
   ]
  },
  {
   "cell_type": "code",
   "execution_count": null,
   "id": "0e4ac3d2",
   "metadata": {},
   "outputs": [],
   "source": [
    "# Load data\n",
    "file_path = Path(\"Resources/myopia.csv\")\n",
    "myopia_df = pd.read_csv(file_path)"
   ]
  },
  {
   "cell_type": "code",
   "execution_count": null,
   "id": "ec2a4a51",
   "metadata": {},
   "outputs": [],
   "source": [
    "# View data\n",
    "myopia_df.head()"
   ]
  },
  {
   "cell_type": "code",
   "execution_count": null,
   "id": "bd48a7e5",
   "metadata": {},
   "outputs": [],
   "source": [
    "# Remove MYOPIC classifier since we're using unsupervised machine learning\n",
    "new_myopia_df = myopia_df.drop(\"MYOPIC\", axis='columns')"
   ]
  },
  {
   "cell_type": "code",
   "execution_count": null,
   "id": "2d25bdaa",
   "metadata": {},
   "outputs": [],
   "source": [
    "# View data\n",
    "new_myopia_df.head()"
   ]
  },
  {
   "cell_type": "code",
   "execution_count": null,
   "id": "271e42fe",
   "metadata": {},
   "outputs": [],
   "source": [
    "# Standardize the data with StandardScaler\n",
    "X = StandardScaler().fit_transform(new_myopia_df)"
   ]
  },
  {
   "cell_type": "code",
   "execution_count": null,
   "id": "df4b12b3",
   "metadata": {},
   "outputs": [],
   "source": [
    "print(X[0:5])"
   ]
  },
  {
   "cell_type": "markdown",
   "id": "439aba2b",
   "metadata": {},
   "source": [
    "# Apply Dimensionality Reduction"
   ]
  },
  {
   "cell_type": "code",
   "execution_count": null,
   "id": "d6212ffd",
   "metadata": {},
   "outputs": [],
   "source": [
    "# Apply PCA to reduce dimensions to preserve 90% of explained variance in dimensionality reduction\n",
    "\n",
    "# Initialize model\n",
    "pca = PCA(n_components = 0.9)\n",
    "\n",
    "# Get principal components for myopic data\n",
    "X_pca = pca.fit_transform(X)"
   ]
  },
  {
   "cell_type": "code",
   "execution_count": null,
   "id": "35828dec",
   "metadata": {},
   "outputs": [],
   "source": [
    "# Determine how many principle components there are\n",
    "print(f\"Reduced columns to {len(X_pca[0])} principal components from {len(X[0])} from the scaled dataset.\")"
   ]
  },
  {
   "cell_type": "code",
   "execution_count": null,
   "id": "50cc4b9c",
   "metadata": {},
   "outputs": [],
   "source": [
    "# Further reduce the dimensions using t-SNE.\n",
    "\n",
    "# Initialize t-SNE model\n",
    "tsne = TSNE()"
   ]
  },
  {
   "cell_type": "code",
   "execution_count": null,
   "id": "c2ab6584",
   "metadata": {},
   "outputs": [],
   "source": [
    "# Reduce dimensions\n",
    "tsne_features = tsne.fit_transform(X_pca)"
   ]
  },
  {
   "cell_type": "code",
   "execution_count": null,
   "id": "d5dd3d70",
   "metadata": {},
   "outputs": [],
   "source": [
    "# Check shape of new dataset\n",
    "print(f\"Reduced columns to {tsne_features.shape[1]} principal components from {len(X_pca[0])} from the pca dataset.\")"
   ]
  },
  {
   "cell_type": "markdown",
   "id": "98bcb526",
   "metadata": {},
   "source": [
    "# Reduced Features Plot\n",
    "The plot below will be different everytime, but for the most part once can pick out 4-5 distinct clusters in the plot."
   ]
  },
  {
   "cell_type": "code",
   "execution_count": null,
   "id": "db80ee34",
   "metadata": {},
   "outputs": [],
   "source": [
    "# Plot reduced features\n",
    "plt.scatter(tsne_features[:,0], tsne_features[:,1])\n",
    "plt.show()"
   ]
  },
  {
   "cell_type": "markdown",
   "id": "dc6b8bb2",
   "metadata": {},
   "source": [
    "# Cluster Analysis Using K-Means"
   ]
  },
  {
   "cell_type": "code",
   "execution_count": null,
   "id": "ef2dafe2",
   "metadata": {},
   "outputs": [],
   "source": [
    "### Code below taken from 20-Unsupervised-Machine-Learning/1/Activities/06-Ins_PCA/Solved/Ins_PCA.ipynb\n",
    "\n",
    "# Finding best value for k\n",
    "inertia = []\n",
    "k = list(range(1, 11))\n",
    "\n",
    "# Calculate the inertia for the range of k values\n",
    "for i in k:\n",
    "    km = KMeans(n_clusters=i, random_state=0)\n",
    "    km.fit(tsne_features)\n",
    "    inertia.append(km.inertia_)\n",
    "\n",
    "# Create the Elbow Curve\n",
    "elbow_data = {\"k\": k, \"inertia\": inertia}\n",
    "df_elbow = pd.DataFrame(elbow_data)\n",
    "\n",
    "plt.plot(df_elbow['k'], df_elbow['inertia'])\n",
    "plt.xticks(list(range(11)))\n",
    "plt.title('Elbow Curve')\n",
    "plt.xlabel('Number of clusters')\n",
    "plt.ylabel('Inertia')\n",
    "plt.show()"
   ]
  },
  {
   "cell_type": "code",
   "execution_count": null,
   "id": "1ffb264a",
   "metadata": {},
   "outputs": [],
   "source": [
    "# From the graph above, we will choose k = 5 since we do get a decent performance boost from k = 3.\n",
    "\n",
    "# Initialize dataframe\n",
    "tsne_df = pd.DataFrame(data=tsne_features, columns=[\"principal_component_1\", \"principal_component_2\"])\n",
    "\n",
    "# Initialize the k-means model\n",
    "model = KMeans(n_clusters = 5, random_state = 0)\n",
    "\n",
    "# Fit model\n",
    "model.fit(tsne_df)\n",
    "\n",
    "# Predict clusters\n",
    "predictions = model.predict(tsne_df)\n",
    "\n",
    "# Add the predicted class column to the dataframe\n",
    "tsne_df[\"class\"] = model.labels_\n",
    "tsne_df.head()"
   ]
  },
  {
   "cell_type": "code",
   "execution_count": null,
   "id": "a75f54f1",
   "metadata": {},
   "outputs": [],
   "source": [
    "# Visualize the clusters\n",
    "plt.scatter(x=tsne_df['principal_component_1'], y=tsne_df['principal_component_2'], c=tsne_df['class'])\n",
    "plt.xlabel('Principal component 1')\n",
    "plt.ylabel('Principal component 2')\n",
    "plt.title('Myopia Clusters')\n",
    "plt.show()"
   ]
  },
  {
   "cell_type": "markdown",
   "id": "66d0476f",
   "metadata": {},
   "source": [
    "# Analysis and Conclusion"
   ]
  },
  {
   "cell_type": "code",
   "execution_count": null,
   "id": "16170a35",
   "metadata": {},
   "outputs": [],
   "source": []
  }
 ],
 "metadata": {
  "kernelspec": {
   "display_name": "Python 3 (ipykernel)",
   "language": "python",
   "name": "python3"
  },
  "language_info": {
   "codemirror_mode": {
    "name": "ipython",
    "version": 3
   },
   "file_extension": ".py",
   "mimetype": "text/x-python",
   "name": "python",
   "nbconvert_exporter": "python",
   "pygments_lexer": "ipython3",
   "version": "3.8.13"
  }
 },
 "nbformat": 4,
 "nbformat_minor": 5
}
