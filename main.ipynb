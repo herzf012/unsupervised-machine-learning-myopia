{
 "cells": [
  {
   "cell_type": "code",
   "execution_count": null,
   "id": "828c3d27",
   "metadata": {},
   "outputs": [],
   "source": [
    "# Import initial dependences\n",
    "import pandas as pd"
   ]
  },
  {
   "cell_type": "code",
   "execution_count": null,
   "id": "0e4ac3d2",
   "metadata": {},
   "outputs": [],
   "source": [
    "# Load data\n",
    "myopia_df = pd.read_csv(\"Resources/myopia.csv\")"
   ]
  },
  {
   "cell_type": "code",
   "execution_count": null,
   "id": "ec2a4a51",
   "metadata": {},
   "outputs": [],
   "source": [
    "# View data\n",
    "myopia_df.head()"
   ]
  },
  {
   "cell_type": "code",
   "execution_count": null,
   "id": "bd48a7e5",
   "metadata": {},
   "outputs": [],
   "source": [
    "# Remove MYOPIC classifier since we're using unsupervised machine learning\n",
    "new_myopia_df = myopia_df.drop(\"MYOPIC\", axis='columns')"
   ]
  },
  {
   "cell_type": "code",
   "execution_count": null,
   "id": "2d25bdaa",
   "metadata": {},
   "outputs": [],
   "source": [
    "# View data\n",
    "new_myopia_df.head()"
   ]
  },
  {
   "cell_type": "code",
   "execution_count": null,
   "id": "271e42fe",
   "metadata": {},
   "outputs": [],
   "source": []
  }
 ],
 "metadata": {
  "kernelspec": {
   "display_name": "Python 3 (ipykernel)",
   "language": "python",
   "name": "python3"
  },
  "language_info": {
   "codemirror_mode": {
    "name": "ipython",
    "version": 3
   },
   "file_extension": ".py",
   "mimetype": "text/x-python",
   "name": "python",
   "nbconvert_exporter": "python",
   "pygments_lexer": "ipython3",
   "version": "3.8.13"
  }
 },
 "nbformat": 4,
 "nbformat_minor": 5
}
